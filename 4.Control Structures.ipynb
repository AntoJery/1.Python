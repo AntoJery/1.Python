{
 "cells": [
  {
   "cell_type": "code",
   "execution_count": 1,
   "metadata": {},
   "outputs": [
    {
     "name": "stdout",
     "output_type": "stream",
     "text": [
      "Enter your age:18\n",
      "Adult\n"
     ]
    }
   ],
   "source": [
    "age=int(input(\"Enter your age:\"))\n",
    "if(age==18):\n",
    "    print(\"Adult\")"
   ]
  },
  {
   "cell_type": "code",
   "execution_count": 8,
   "metadata": {},
   "outputs": [
    {
     "name": "stdout",
     "output_type": "stream",
     "text": [
      "Enter your age:24\n",
      "Adult\n"
     ]
    }
   ],
   "source": [
    "#ifelse statement\n",
    "age=int(input(\"Enter your age:\"))\n",
    "if(age>18):\n",
    "    print(\"Adult\")\n",
    "else:\n",
    "    print(\"child\")"
   ]
  },
  {
   "cell_type": "code",
   "execution_count": 1,
   "metadata": {},
   "outputs": [
    {
     "name": "stdout",
     "output_type": "stream",
     "text": [
      "Enter your mark to know your grade: 32\n",
      "Fail\n"
     ]
    }
   ],
   "source": [
    "#ifelif statement\n",
    "\n",
    "marks=int(input(\"Enter your mark to know your grade: \"))\n",
    "if(marks<35):\n",
    "    print(\"Fail\")\n",
    "elif(marks<60):\n",
    "    print(\"B Grade\")\n",
    "elif(marks<=80):\n",
    "    print(\"A Grade\")\n",
    "elif(marks<=100):\n",
    "    print(\"Special Grade\")"
   ]
  },
  {
   "cell_type": "code",
   "execution_count": 10,
   "metadata": {},
   "outputs": [
    {
     "name": "stdout",
     "output_type": "stream",
     "text": [
      "21\n",
      "32\n",
      "43\n",
      "54\n",
      "65\n",
      "76\n",
      "87\n",
      "89\n"
     ]
    }
   ],
   "source": [
    "#forloop\n",
    "\n",
    "list=[21,32,43,54,65,76,87,89]\n",
    "for marks in list:\n",
    "    print (marks)\n",
    "   "
   ]
  },
  {
   "cell_type": "code",
   "execution_count": 12,
   "metadata": {},
   "outputs": [
    {
     "name": "stdout",
     "output_type": "stream",
     "text": [
      "23\n",
      "Fail\n",
      "34\n",
      "Fail\n",
      "45\n",
      "B Grade\n",
      "56\n",
      "B Grade\n",
      "67\n",
      "A Grade\n",
      "78\n",
      "A Grade\n",
      "89\n",
      "Special Grade\n",
      "99\n",
      "Special Grade\n"
     ]
    }
   ],
   "source": [
    " MarkList=[23,34,45,56,67,78,89,99]\n",
    "for marks in MarkList:\n",
    "    print(marks)\n",
    "    if(marks<35):\n",
    "        print(\"Fail\")\n",
    "    elif(marks<60):\n",
    "        print(\"B Grade\")\n",
    "    elif(marks<=80):\n",
    "        print(\"A Grade\")\n",
    "    else:\n",
    "        print(\"Special Grade\")"
   ]
  },
  {
   "cell_type": "code",
   "execution_count": null,
   "metadata": {},
   "outputs": [],
   "source": []
  }
 ],
 "metadata": {
  "kernelspec": {
   "display_name": "Python 3",
   "language": "python",
   "name": "python3"
  },
  "language_info": {
   "codemirror_mode": {
    "name": "ipython",
    "version": 3
   },
   "file_extension": ".py",
   "mimetype": "text/x-python",
   "name": "python",
   "nbconvert_exporter": "python",
   "pygments_lexer": "ipython3",
   "version": "3.7.4"
  }
 },
 "nbformat": 4,
 "nbformat_minor": 2
}
