{
 "cells": [
  {
   "cell_type": "code",
   "execution_count": 2,
   "metadata": {},
   "outputs": [
    {
     "name": "stdout",
     "output_type": "stream",
     "text": [
      "4100\n"
     ]
    }
   ],
   "source": [
    "num1=2002\n",
    "num2=2098\n",
    "add=num1+num2\n",
    "print (add)"
   ]
  },
  {
   "cell_type": "code",
   "execution_count": 3,
   "metadata": {},
   "outputs": [
    {
     "name": "stdout",
     "output_type": "stream",
     "text": [
      "The Addition Of two numbers\n",
      "The number1 is 10\n",
      "The number2 is 20\n",
      "The answer is 30\n"
     ]
    }
   ],
   "source": [
    "print(\"The Addition Of two numbers\")\n",
    "num1=10\n",
    "print(\"The number1 is 10\")\n",
    "num2=20\n",
    "print(\"The number2 is 20\")\n",
    "add=num1+num2\n",
    "print(\"The answer is\",add)"
   ]
  },
  {
   "cell_type": "code",
   "execution_count": 4,
   "metadata": {},
   "outputs": [
    {
     "name": "stdout",
     "output_type": "stream",
     "text": [
      "The Addition Of two numbers\n",
      "The number1 is  10\n",
      "The number2 is  20\n",
      "The answer is 30\n"
     ]
    }
   ],
   "source": [
    "print(\"The Addition Of two numbers\")\n",
    "num1=10\n",
    "print(\"The number1 is \",num1)\n",
    "num2=20\n",
    "print(\"The number2 is \",num2)\n",
    "add=num1+num2\n",
    "print(\"The answer is\",add)"
   ]
  },
  {
   "cell_type": "code",
   "execution_count": 5,
   "metadata": {},
   "outputs": [
    {
     "name": "stdout",
     "output_type": "stream",
     "text": [
      "The Addition Of two numbers\n",
      "The number1 is 10\n",
      "The number2 is 20\n",
      "The answer is 30\n"
     ]
    }
   ],
   "source": [
    "print(\"The Addition Of two numbers\")\n",
    "num1=10\n",
    "print(\"The number1 is 10\")\n",
    "num2=20\n",
    "print(\"The number2 is 20\")\n",
    "print(\"The answer is\",num1+num2)"
   ]
  },
  {
   "cell_type": "code",
   "execution_count": null,
   "metadata": {},
   "outputs": [],
   "source": []
  }
 ],
 "metadata": {
  "kernelspec": {
   "display_name": "Python 3",
   "language": "python",
   "name": "python3"
  },
  "language_info": {
   "codemirror_mode": {
    "name": "ipython",
    "version": 3
   },
   "file_extension": ".py",
   "mimetype": "text/x-python",
   "name": "python",
   "nbconvert_exporter": "python",
   "pygments_lexer": "ipython3",
   "version": "3.7.4"
  }
 },
 "nbformat": 4,
 "nbformat_minor": 2
}
